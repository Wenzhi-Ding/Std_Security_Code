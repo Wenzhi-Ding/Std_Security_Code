{
 "cells": [
  {
   "cell_type": "code",
   "execution_count": 1,
   "id": "e08e73fe",
   "metadata": {},
   "outputs": [],
   "source": [
    "import pandas as pd"
   ]
  },
  {
   "cell_type": "code",
   "execution_count": 2,
   "id": "5076e7b6",
   "metadata": {},
   "outputs": [
    {
     "data": {
      "text/plain": [
       "(117005, 8)"
      ]
     },
     "execution_count": 2,
     "metadata": {},
     "output_type": "execute_result"
    },
    {
     "data": {
      "text/html": [
       "<div>\n",
       "<style scoped>\n",
       "    .dataframe tbody tr th:only-of-type {\n",
       "        vertical-align: middle;\n",
       "    }\n",
       "\n",
       "    .dataframe tbody tr th {\n",
       "        vertical-align: top;\n",
       "    }\n",
       "\n",
       "    .dataframe thead th {\n",
       "        text-align: right;\n",
       "    }\n",
       "</style>\n",
       "<table border=\"1\" class=\"dataframe\">\n",
       "  <thead>\n",
       "    <tr style=\"text-align: right;\">\n",
       "      <th></th>\n",
       "      <th>GVKEY</th>\n",
       "      <th>LINKPRIM</th>\n",
       "      <th>LIID</th>\n",
       "      <th>LINKTYPE</th>\n",
       "      <th>LPERMNO</th>\n",
       "      <th>LPERMCO</th>\n",
       "      <th>LINKDT</th>\n",
       "      <th>LINKENDDT</th>\n",
       "    </tr>\n",
       "  </thead>\n",
       "  <tbody>\n",
       "    <tr>\n",
       "      <th>0</th>\n",
       "      <td>1000</td>\n",
       "      <td>C</td>\n",
       "      <td>00X</td>\n",
       "      <td>NU</td>\n",
       "      <td>NaN</td>\n",
       "      <td>NaN</td>\n",
       "      <td>19610101</td>\n",
       "      <td>19700929</td>\n",
       "    </tr>\n",
       "    <tr>\n",
       "      <th>1</th>\n",
       "      <td>1000</td>\n",
       "      <td>P</td>\n",
       "      <td>01</td>\n",
       "      <td>NU</td>\n",
       "      <td>NaN</td>\n",
       "      <td>NaN</td>\n",
       "      <td>19700930</td>\n",
       "      <td>19701112</td>\n",
       "    </tr>\n",
       "    <tr>\n",
       "      <th>2</th>\n",
       "      <td>1000</td>\n",
       "      <td>P</td>\n",
       "      <td>01</td>\n",
       "      <td>LU</td>\n",
       "      <td>25881.0</td>\n",
       "      <td>23369.0</td>\n",
       "      <td>19701113</td>\n",
       "      <td>19780630</td>\n",
       "    </tr>\n",
       "  </tbody>\n",
       "</table>\n",
       "</div>"
      ],
      "text/plain": [
       "   GVKEY LINKPRIM LIID LINKTYPE  LPERMNO  LPERMCO    LINKDT LINKENDDT\n",
       "0   1000        C  00X       NU      NaN      NaN  19610101  19700929\n",
       "1   1000        P   01       NU      NaN      NaN  19700930  19701112\n",
       "2   1000        P   01       LU  25881.0  23369.0  19701113  19780630"
      ]
     },
     "execution_count": 2,
     "metadata": {},
     "output_type": "execute_result"
    }
   ],
   "source": [
    "df = pd.read_parquet(\"Z:/dataset/CRSP/a_ccm/ccmxpf_lnkhist\")\n",
    "df.shape\n",
    "df.head(3)"
   ]
  },
  {
   "cell_type": "code",
   "execution_count": null,
   "id": "4933ebd1",
   "metadata": {},
   "outputs": [],
   "source": []
  }
 ],
 "metadata": {
  "kernelspec": {
   "display_name": "base",
   "language": "python",
   "name": "python3"
  },
  "language_info": {
   "codemirror_mode": {
    "name": "ipython",
    "version": 3
   },
   "file_extension": ".py",
   "mimetype": "text/x-python",
   "name": "python",
   "nbconvert_exporter": "python",
   "pygments_lexer": "ipython3",
   "version": "3.12.8"
  }
 },
 "nbformat": 4,
 "nbformat_minor": 5
}
